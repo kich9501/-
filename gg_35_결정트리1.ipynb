{
 "cells": [
  {
   "cell_type": "markdown",
   "metadata": {
    "colab_type": "text",
    "id": "jLiegAgrN9rn"
   },
   "source": [
    "결정트리\n",
    "==\n",
    "데이터\n",
    "--\n",
    "- 붓꽃(iris) 분류 데이터\n"
   ]
  },
  {
   "cell_type": "code",
   "execution_count": 1,
   "metadata": {},
   "outputs": [],
   "source": [
    "from sklearn.datasets import load_iris"
   ]
  },
  {
   "cell_type": "code",
   "execution_count": 2,
   "metadata": {
    "colab": {},
    "colab_type": "code",
    "id": "IxARNEkiN9rp"
   },
   "outputs": [],
   "source": [
    "iris = load_iris()"
   ]
  },
  {
   "cell_type": "markdown",
   "metadata": {},
   "source": [
    "### 먼저 4개의 속성 중, 2개의 속성만 사용\n",
    "- 꽃받침(sepal)의 길이(length)\n",
    "- 꽃받침의(sepal) 폭(width)"
   ]
  },
  {
   "cell_type": "code",
   "execution_count": 3,
   "metadata": {
    "scrolled": true
   },
   "outputs": [
    {
     "data": {
      "text/plain": [
       "['sepal length (cm)',\n",
       " 'sepal width (cm)',\n",
       " 'petal length (cm)',\n",
       " 'petal width (cm)']"
      ]
     },
     "execution_count": 3,
     "metadata": {},
     "output_type": "execute_result"
    }
   ],
   "source": [
    "iris.feature_names"
   ]
  },
  {
   "cell_type": "code",
   "execution_count": 5,
   "metadata": {},
   "outputs": [
    {
     "data": {
      "text/plain": [
       "array(['setosa', 'versicolor', 'virginica'], dtype='<U10')"
      ]
     },
     "execution_count": 5,
     "metadata": {},
     "output_type": "execute_result"
    }
   ],
   "source": [
    "iris.target_names"
   ]
  },
  {
   "cell_type": "code",
   "execution_count": 6,
   "metadata": {},
   "outputs": [],
   "source": [
    "X = iris.data[:, :2]\n",
    "y = iris.target"
   ]
  },
  {
   "cell_type": "code",
   "execution_count": 7,
   "metadata": {
    "scrolled": true
   },
   "outputs": [
    {
     "data": {
      "text/plain": [
       "(numpy.ndarray, numpy.ndarray)"
      ]
     },
     "execution_count": 7,
     "metadata": {},
     "output_type": "execute_result"
    }
   ],
   "source": [
    "type(X), type(y)"
   ]
  },
  {
   "cell_type": "markdown",
   "metadata": {},
   "source": [
    "### 결정 트리 모델 생성\n",
    "- 훈련 데이터로 훈련 : 깊이는 2 로 제한\n",
    "- 지니 불순도가 가장 작은 값도록 결정 트리 생성"
   ]
  },
  {
   "cell_type": "code",
   "execution_count": 8,
   "metadata": {},
   "outputs": [],
   "source": [
    "from sklearn.tree import DecisionTreeClassifier"
   ]
  },
  {
   "cell_type": "code",
   "execution_count": 9,
   "metadata": {
    "colab": {
     "base_uri": "https://localhost:8080/",
     "height": 116
    },
    "colab_type": "code",
    "id": "Oq-0Op8FN9rs",
    "outputId": "aa64a283-27ab-41ae-8be0-6e9d7fd59fdc",
    "scrolled": true
   },
   "outputs": [
    {
     "data": {
      "text/plain": [
       "DecisionTreeClassifier(class_weight=None, criterion='gini', max_depth=2,\n",
       "                       max_features=None, max_leaf_nodes=None,\n",
       "                       min_impurity_decrease=0.0, min_impurity_split=None,\n",
       "                       min_samples_leaf=1, min_samples_split=2,\n",
       "                       min_weight_fraction_leaf=0.0, presort=False,\n",
       "                       random_state=None, splitter='best')"
      ]
     },
     "execution_count": 9,
     "metadata": {},
     "output_type": "execute_result"
    }
   ],
   "source": [
    "clf = DecisionTreeClassifier(max_depth = 2)\n",
    "clf.fit(X, y)"
   ]
  },
  {
   "cell_type": "markdown",
   "metadata": {
    "colab_type": "text",
    "id": "LXbeJAz3N9ry"
   },
   "source": [
    "결정 트리 그래프 그리기 (옵션)\n",
    "--"
   ]
  },
  {
   "cell_type": "markdown",
   "metadata": {
    "colab_type": "text",
    "id": "QtnLyNAmN9rz"
   },
   "source": [
    "Graphviz 설치\n",
    "--\n",
    "\n",
    "- graphviz.org 사이트에서 다운로드 후 설치\n",
    "- 윈도우 버전:\n",
    "1. https://graphviz.gitlab.io/_pages/Download/Download_windows.html 접속\n",
    "   - msi 파일 다운로드후, 설치\n",
    "2. 시스템 환경변수 path에 추가\n",
    "   - 파일 위치\\graphviz2.38\\bin\n",
    "   - 파일 위치\\graphviz2.38\\bin\\dot.exe(안 해도 됨)\n",
    "3. Jupyter Notebook(파이썬)에서는\n",
    "   - import os\n",
    "   - os.environ[\"PATH\"] += os.pathsep + 'C:/Program Files (x86)/Graphviz2.38/bin'"
   ]
  },
  {
   "cell_type": "code",
   "execution_count": 10,
   "metadata": {
    "colab": {
     "base_uri": "https://localhost:8080/",
     "height": 33
    },
    "colab_type": "code",
    "id": "EYYj6m8IN9rz",
    "outputId": "a5f97de5-7b33-4fe5-8a2c-2b1d76cd9b17",
    "scrolled": false
   },
   "outputs": [
    {
     "name": "stdout",
     "output_type": "stream",
     "text": [
      "Requirement already satisfied: graphviz in c:\\users\\admin\\anaconda3\\lib\\site-packages (0.13.2)\n"
     ]
    },
    {
     "name": "stderr",
     "output_type": "stream",
     "text": [
      "WARNING: You are using pip version 19.3.1; however, version 20.2.1 is available.\n",
      "You should consider upgrading via the 'python -m pip install --upgrade pip' command.\n"
     ]
    }
   ],
   "source": [
    "!pip install graphviz"
   ]
  },
  {
   "cell_type": "code",
   "execution_count": 11,
   "metadata": {},
   "outputs": [],
   "source": [
    "import os\n",
    "os.environ[\"PATH\"] += os.pathsep + 'C:/Program Files (x86)/Graphviz2.38/bin'"
   ]
  },
  {
   "cell_type": "code",
   "execution_count": 12,
   "metadata": {
    "scrolled": false
   },
   "outputs": [
    {
     "name": "stdout",
     "output_type": "stream",
     "text": [
      "Collecting pip\n",
      "  Downloading https://files.pythonhosted.org/packages/5a/4a/39400ff9b36e719bdf8f31c99fe1fa7842a42fa77432e584f707a5080063/pip-20.2.2-py2.py3-none-any.whl (1.5MB)\n",
      "Installing collected packages: pip\n",
      "  Found existing installation: pip 19.3.1\n",
      "    Uninstalling pip-19.3.1:\n",
      "      Successfully uninstalled pip-19.3.1\n",
      "Successfully installed pip-20.2.2\n"
     ]
    }
   ],
   "source": [
    "!python -m pip install --upgrade pip"
   ]
  },
  {
   "cell_type": "code",
   "execution_count": 15,
   "metadata": {
    "colab": {},
    "colab_type": "code",
    "id": "WjvXWXrJN9r2",
    "scrolled": true
   },
   "outputs": [],
   "source": [
    "from sklearn.tree import export_graphviz\n",
    "import graphviz\n",
    "export_graphviz(\n",
    "    clf,\n",
    "    out_file = \"./iris.dot\",\n",
    "    feature_names = iris.feature_names[:2],\n",
    "    class_names = iris.target_names,\n",
    "    filled = True\n",
    "    )"
   ]
  },
  {
   "cell_type": "code",
   "execution_count": 14,
   "metadata": {
    "colab": {
     "base_uri": "https://localhost:8080/",
     "height": 440
    },
    "colab_type": "code",
    "id": "NgbjTOpxN9r5",
    "outputId": "02703cc6-7871-4640-9f7f-1d7cef8748a8",
    "scrolled": true
   },
   "outputs": [
    {
     "data": {
      "image/svg+xml": [
       "<?xml version=\"1.0\" encoding=\"UTF-8\" standalone=\"no\"?>\r\n",
       "<!DOCTYPE svg PUBLIC \"-//W3C//DTD SVG 1.1//EN\"\r\n",
       " \"http://www.w3.org/Graphics/SVG/1.1/DTD/svg11.dtd\">\r\n",
       "<!-- Generated by graphviz version 2.38.0 (20140413.2041)\r\n",
       " -->\r\n",
       "<!-- Title: Tree Pages: 1 -->\r\n",
       "<svg width=\"549pt\" height=\"314pt\"\r\n",
       " viewBox=\"0.00 0.00 548.50 314.00\" xmlns=\"http://www.w3.org/2000/svg\" xmlns:xlink=\"http://www.w3.org/1999/xlink\">\r\n",
       "<g id=\"graph0\" class=\"graph\" transform=\"scale(1 1) rotate(0) translate(4 310)\">\r\n",
       "<title>Tree</title>\r\n",
       "<polygon fill=\"white\" stroke=\"none\" points=\"-4,4 -4,-310 544.5,-310 544.5,4 -4,4\"/>\r\n",
       "<!-- 0 -->\r\n",
       "<g id=\"node1\" class=\"node\"><title>0</title>\r\n",
       "<polygon fill=\"#ffffff\" stroke=\"black\" points=\"347,-306 187,-306 187,-223 347,-223 347,-306\"/>\r\n",
       "<text text-anchor=\"middle\" x=\"267\" y=\"-290.8\" font-family=\"Times New Roman,serif\" font-size=\"14.00\">sepal length (cm) &lt;= 5.45</text>\r\n",
       "<text text-anchor=\"middle\" x=\"267\" y=\"-275.8\" font-family=\"Times New Roman,serif\" font-size=\"14.00\">gini = 0.667</text>\r\n",
       "<text text-anchor=\"middle\" x=\"267\" y=\"-260.8\" font-family=\"Times New Roman,serif\" font-size=\"14.00\">samples = 150</text>\r\n",
       "<text text-anchor=\"middle\" x=\"267\" y=\"-245.8\" font-family=\"Times New Roman,serif\" font-size=\"14.00\">value = [50, 50, 50]</text>\r\n",
       "<text text-anchor=\"middle\" x=\"267\" y=\"-230.8\" font-family=\"Times New Roman,serif\" font-size=\"14.00\">class = setosa</text>\r\n",
       "</g>\r\n",
       "<!-- 1 -->\r\n",
       "<g id=\"node2\" class=\"node\"><title>1</title>\r\n",
       "<polygon fill=\"#e99457\" stroke=\"black\" points=\"255.5,-187 104.5,-187 104.5,-104 255.5,-104 255.5,-187\"/>\r\n",
       "<text text-anchor=\"middle\" x=\"180\" y=\"-171.8\" font-family=\"Times New Roman,serif\" font-size=\"14.00\">sepal width (cm) &lt;= 2.8</text>\r\n",
       "<text text-anchor=\"middle\" x=\"180\" y=\"-156.8\" font-family=\"Times New Roman,serif\" font-size=\"14.00\">gini = 0.237</text>\r\n",
       "<text text-anchor=\"middle\" x=\"180\" y=\"-141.8\" font-family=\"Times New Roman,serif\" font-size=\"14.00\">samples = 52</text>\r\n",
       "<text text-anchor=\"middle\" x=\"180\" y=\"-126.8\" font-family=\"Times New Roman,serif\" font-size=\"14.00\">value = [45, 6, 1]</text>\r\n",
       "<text text-anchor=\"middle\" x=\"180\" y=\"-111.8\" font-family=\"Times New Roman,serif\" font-size=\"14.00\">class = setosa</text>\r\n",
       "</g>\r\n",
       "<!-- 0&#45;&gt;1 -->\r\n",
       "<g id=\"edge1\" class=\"edge\"><title>0&#45;&gt;1</title>\r\n",
       "<path fill=\"none\" stroke=\"black\" d=\"M236.816,-222.907C230.135,-213.923 222.991,-204.315 216.101,-195.05\"/>\r\n",
       "<polygon fill=\"black\" stroke=\"black\" points=\"218.907,-192.957 210.131,-187.021 213.289,-197.134 218.907,-192.957\"/>\r\n",
       "<text text-anchor=\"middle\" x=\"206.494\" y=\"-208.055\" font-family=\"Times New Roman,serif\" font-size=\"14.00\">True</text>\r\n",
       "</g>\r\n",
       "<!-- 4 -->\r\n",
       "<g id=\"node5\" class=\"node\"><title>4</title>\r\n",
       "<polygon fill=\"#f3edfd\" stroke=\"black\" points=\"434,-187 274,-187 274,-104 434,-104 434,-187\"/>\r\n",
       "<text text-anchor=\"middle\" x=\"354\" y=\"-171.8\" font-family=\"Times New Roman,serif\" font-size=\"14.00\">sepal length (cm) &lt;= 6.15</text>\r\n",
       "<text text-anchor=\"middle\" x=\"354\" y=\"-156.8\" font-family=\"Times New Roman,serif\" font-size=\"14.00\">gini = 0.546</text>\r\n",
       "<text text-anchor=\"middle\" x=\"354\" y=\"-141.8\" font-family=\"Times New Roman,serif\" font-size=\"14.00\">samples = 98</text>\r\n",
       "<text text-anchor=\"middle\" x=\"354\" y=\"-126.8\" font-family=\"Times New Roman,serif\" font-size=\"14.00\">value = [5, 44, 49]</text>\r\n",
       "<text text-anchor=\"middle\" x=\"354\" y=\"-111.8\" font-family=\"Times New Roman,serif\" font-size=\"14.00\">class = virginica</text>\r\n",
       "</g>\r\n",
       "<!-- 0&#45;&gt;4 -->\r\n",
       "<g id=\"edge4\" class=\"edge\"><title>0&#45;&gt;4</title>\r\n",
       "<path fill=\"none\" stroke=\"black\" d=\"M297.184,-222.907C303.865,-213.923 311.009,-204.315 317.899,-195.05\"/>\r\n",
       "<polygon fill=\"black\" stroke=\"black\" points=\"320.711,-197.134 323.869,-187.021 315.093,-192.957 320.711,-197.134\"/>\r\n",
       "<text text-anchor=\"middle\" x=\"327.506\" y=\"-208.055\" font-family=\"Times New Roman,serif\" font-size=\"14.00\">False</text>\r\n",
       "</g>\r\n",
       "<!-- 2 -->\r\n",
       "<g id=\"node3\" class=\"node\"><title>2</title>\r\n",
       "<polygon fill=\"#7beeab\" stroke=\"black\" points=\"116,-68 0,-68 0,-0 116,-0 116,-68\"/>\r\n",
       "<text text-anchor=\"middle\" x=\"58\" y=\"-52.8\" font-family=\"Times New Roman,serif\" font-size=\"14.00\">gini = 0.449</text>\r\n",
       "<text text-anchor=\"middle\" x=\"58\" y=\"-37.8\" font-family=\"Times New Roman,serif\" font-size=\"14.00\">samples = 7</text>\r\n",
       "<text text-anchor=\"middle\" x=\"58\" y=\"-22.8\" font-family=\"Times New Roman,serif\" font-size=\"14.00\">value = [1, 5, 1]</text>\r\n",
       "<text text-anchor=\"middle\" x=\"58\" y=\"-7.8\" font-family=\"Times New Roman,serif\" font-size=\"14.00\">class = versicolor</text>\r\n",
       "</g>\r\n",
       "<!-- 1&#45;&gt;2 -->\r\n",
       "<g id=\"edge2\" class=\"edge\"><title>1&#45;&gt;2</title>\r\n",
       "<path fill=\"none\" stroke=\"black\" d=\"M134.572,-103.726C124.105,-94.3318 112.982,-84.349 102.553,-74.9883\"/>\r\n",
       "<polygon fill=\"black\" stroke=\"black\" points=\"104.881,-72.3744 95.1009,-68.2996 100.205,-77.5839 104.881,-72.3744\"/>\r\n",
       "</g>\r\n",
       "<!-- 3 -->\r\n",
       "<g id=\"node4\" class=\"node\"><title>3</title>\r\n",
       "<polygon fill=\"#e6843d\" stroke=\"black\" points=\"246,-68 134,-68 134,-0 246,-0 246,-68\"/>\r\n",
       "<text text-anchor=\"middle\" x=\"190\" y=\"-52.8\" font-family=\"Times New Roman,serif\" font-size=\"14.00\">gini = 0.043</text>\r\n",
       "<text text-anchor=\"middle\" x=\"190\" y=\"-37.8\" font-family=\"Times New Roman,serif\" font-size=\"14.00\">samples = 45</text>\r\n",
       "<text text-anchor=\"middle\" x=\"190\" y=\"-22.8\" font-family=\"Times New Roman,serif\" font-size=\"14.00\">value = [44, 1, 0]</text>\r\n",
       "<text text-anchor=\"middle\" x=\"190\" y=\"-7.8\" font-family=\"Times New Roman,serif\" font-size=\"14.00\">class = setosa</text>\r\n",
       "</g>\r\n",
       "<!-- 1&#45;&gt;3 -->\r\n",
       "<g id=\"edge3\" class=\"edge\"><title>1&#45;&gt;3</title>\r\n",
       "<path fill=\"none\" stroke=\"black\" d=\"M183.724,-103.726C184.482,-95.4263 185.282,-86.6671 186.047,-78.2834\"/>\r\n",
       "<polygon fill=\"black\" stroke=\"black\" points=\"189.535,-78.5765 186.959,-68.2996 182.564,-77.9398 189.535,-78.5765\"/>\r\n",
       "</g>\r\n",
       "<!-- 5 -->\r\n",
       "<g id=\"node6\" class=\"node\"><title>5</title>\r\n",
       "<polygon fill=\"#93f1ba\" stroke=\"black\" points=\"403.5,-68 284.5,-68 284.5,-0 403.5,-0 403.5,-68\"/>\r\n",
       "<text text-anchor=\"middle\" x=\"344\" y=\"-52.8\" font-family=\"Times New Roman,serif\" font-size=\"14.00\">gini = 0.508</text>\r\n",
       "<text text-anchor=\"middle\" x=\"344\" y=\"-37.8\" font-family=\"Times New Roman,serif\" font-size=\"14.00\">samples = 43</text>\r\n",
       "<text text-anchor=\"middle\" x=\"344\" y=\"-22.8\" font-family=\"Times New Roman,serif\" font-size=\"14.00\">value = [5, 28, 10]</text>\r\n",
       "<text text-anchor=\"middle\" x=\"344\" y=\"-7.8\" font-family=\"Times New Roman,serif\" font-size=\"14.00\">class = versicolor</text>\r\n",
       "</g>\r\n",
       "<!-- 4&#45;&gt;5 -->\r\n",
       "<g id=\"edge5\" class=\"edge\"><title>4&#45;&gt;5</title>\r\n",
       "<path fill=\"none\" stroke=\"black\" d=\"M350.276,-103.726C349.518,-95.4263 348.718,-86.6671 347.953,-78.2834\"/>\r\n",
       "<polygon fill=\"black\" stroke=\"black\" points=\"351.436,-77.9398 347.041,-68.2996 344.465,-78.5765 351.436,-77.9398\"/>\r\n",
       "</g>\r\n",
       "<!-- 6 -->\r\n",
       "<g id=\"node7\" class=\"node\"><title>6</title>\r\n",
       "<polygon fill=\"#b58af0\" stroke=\"black\" points=\"540.5,-68 421.5,-68 421.5,-0 540.5,-0 540.5,-68\"/>\r\n",
       "<text text-anchor=\"middle\" x=\"481\" y=\"-52.8\" font-family=\"Times New Roman,serif\" font-size=\"14.00\">gini = 0.413</text>\r\n",
       "<text text-anchor=\"middle\" x=\"481\" y=\"-37.8\" font-family=\"Times New Roman,serif\" font-size=\"14.00\">samples = 55</text>\r\n",
       "<text text-anchor=\"middle\" x=\"481\" y=\"-22.8\" font-family=\"Times New Roman,serif\" font-size=\"14.00\">value = [0, 16, 39]</text>\r\n",
       "<text text-anchor=\"middle\" x=\"481\" y=\"-7.8\" font-family=\"Times New Roman,serif\" font-size=\"14.00\">class = virginica</text>\r\n",
       "</g>\r\n",
       "<!-- 4&#45;&gt;6 -->\r\n",
       "<g id=\"edge6\" class=\"edge\"><title>4&#45;&gt;6</title>\r\n",
       "<path fill=\"none\" stroke=\"black\" d=\"M401.29,-103.726C412.186,-94.3318 423.764,-84.349 434.621,-74.9883\"/>\r\n",
       "<polygon fill=\"black\" stroke=\"black\" points=\"437.09,-77.4804 442.379,-68.2996 432.519,-72.1789 437.09,-77.4804\"/>\r\n",
       "</g>\r\n",
       "</g>\r\n",
       "</svg>\r\n"
      ],
      "text/plain": [
       "<graphviz.files.Source at 0x180381adf48>"
      ]
     },
     "execution_count": 14,
     "metadata": {},
     "output_type": "execute_result"
    }
   ],
   "source": [
    "with open(\"./iris.dot\") as f:\n",
    "    dot_graph = str(open(\"./iris.dot\", \"rb\").read(), \"utf8\")\n",
    "graphviz.Source(dot_graph)"
   ]
  },
  {
   "cell_type": "markdown",
   "metadata": {},
   "source": [
    "#### UTF-8 : Universal Coded Character Set + Transformation Format – 8-bit \n",
    "- 유니코드 한 문자를 나타내기 위해 1바이트에서 4바이트까지를 사용\n",
    "- U+007F까지의 문자는 7비트 ASCII 문자와 동일한 방법으로 표시\n",
    "- 7비트 ASCII 문자와 혼동되지 않게 하기 위하여 모든 바이트들의 최상위 비트는 1이다."
   ]
  },
  {
   "cell_type": "markdown",
   "metadata": {
    "colab_type": "text",
    "id": "QxRW-8amN9r9"
   },
   "source": [
    "결정 경계선 그리기\n",
    "--"
   ]
  },
  {
   "cell_type": "code",
   "execution_count": 16,
   "metadata": {},
   "outputs": [],
   "source": [
    "import numpy as np\n",
    "import matplotlib.pyplot as plt\n",
    "%matplotlib inline"
   ]
  },
  {
   "cell_type": "code",
   "execution_count": 17,
   "metadata": {},
   "outputs": [
    {
     "data": {
      "text/plain": [
       "Text(0, 0.5, 'Sepal width')"
      ]
     },
     "execution_count": 17,
     "metadata": {},
     "output_type": "execute_result"
    },
    {
     "data": {
      "image/png": "[encoded data removed]",
      "text/plain": [
       "<Figure size 432x288 with 1 Axes>"
      ]
     },
     "metadata": {
      "needs_background": "light"
     },
     "output_type": "display_data"
    }
   ],
   "source": [
    "plt.xlim(4, 8.5)\n",
    "plt.ylim(1.5, 4.5)\n",
    "\n",
    "markers = ['o', '+', '^']\n",
    "for i in range(3):\n",
    "    xs = X[:, 0][y == i]\n",
    "    ys = X[:, 1][y == i]\n",
    "    plt.scatter(xs, ys, marker=markers[i])\n",
    "    \n",
    "plt.legend(iris.target_names)\n",
    "plt.xlabel(\"Sepal length\")\n",
    "plt.ylabel(\"Sepal width\")"
   ]
  },
  {
   "cell_type": "code",
   "execution_count": 19,
   "metadata": {
    "colab": {},
    "colab_type": "code",
    "id": "ARBB0fJPN9r-",
    "outputId": "7d006de2-d4cd-4d10-b9df-7dca4b32f81a",
    "scrolled": true
   },
   "outputs": [
    {
     "data": {
      "text/plain": [
       "[<matplotlib.lines.Line2D at 0x97a9fd0>]"
      ]
     },
     "execution_count": 19,
     "metadata": {},
     "output_type": "execute_result"
    },
    {
     "data": {
      "image/png": "[encoded data removed]",
      "text/plain": [
       "<Figure size 432x288 with 1 Axes>"
      ]
     },
     "metadata": {
      "needs_background": "light"
     },
     "output_type": "display_data"
    }
   ],
   "source": [
    "plt.xlim(4, 8.5)\n",
    "plt.ylim(1.5, 4.5)\n",
    "\n",
    "# 결정 트리 경계선: 실선은 루트 노드 점선은 자식 노드\n",
    "xx = np.linspace(5.45, 5.45, 3)\n",
    "yy = np.linspace(1.5, 4.5, 3)\n",
    "plt.plot(xx, yy, '-k') # 검정색 실선\n",
    "\n",
    "xx = np.linspace(4, 5.45, 3)\n",
    "yy = np.linspace(2.8, 2.8, 3)\n",
    "plt.plot(xx, yy, '--b') # 파란색 점선\n",
    "\n",
    "xx = np.linspace(6.15, 6.15, 3)\n",
    "yy = np.linspace(1.5, 4.5, 3)\n",
    "plt.plot(xx, yy, '--r') # 붉은색 점선\n"
   ]
  },
  {
   "cell_type": "code",
   "execution_count": 18,
   "metadata": {},
   "outputs": [
    {
     "data": {
      "text/plain": [
       "[<matplotlib.lines.Line2D at 0x1803a42a348>]"
      ]
     },
     "execution_count": 18,
     "metadata": {},
     "output_type": "execute_result"
    },
    {
     "data": {
      "image/png": "[encoded data removed]",
      "text/plain": [
       "<Figure size 432x288 with 1 Axes>"
      ]
     },
     "metadata": {
      "needs_background": "light"
     },
     "output_type": "display_data"
    }
   ],
   "source": [
    "# 데이터의 표현\n",
    "plt.xlim(4, 8.5)\n",
    "plt.ylim(1.5, 4.5)\n",
    "\n",
    "markers = ['o', '+', '^']\n",
    "for i in range(3):\n",
    "    xs = X[:, 0][y == i]\n",
    "    ys = X[:, 1][y == i]\n",
    "    plt.scatter(xs, ys, marker=markers[i])\n",
    "    \n",
    "plt.legend(iris.target_names)\n",
    "plt.xlabel(\"Sepal length\")\n",
    "plt.ylabel(\"Sepal width\")\n",
    "\n",
    "# 결정 트리 경계선: 실선은 루트 노드 점선은 자식 노드\n",
    "xx = np.linspace(5.45, 5.45, 3)\n",
    "yy = np.linspace(1.5, 4.5, 3)\n",
    "plt.plot(xx, yy, '-k') # 검정색 실선\n",
    "\n",
    "xx = np.linspace(4, 5.45, 3)\n",
    "yy = np.linspace(2.8, 2.8, 3)\n",
    "plt.plot(xx, yy, '--b') # 파란색 점선\n",
    "\n",
    "xx = np.linspace(6.15, 6.15, 3)\n",
    "yy = np.linspace(1.5, 4.5, 3)\n",
    "plt.plot(xx, yy, '--r') # 붉은색 점선"
   ]
  },
  {
   "cell_type": "markdown",
   "metadata": {},
   "source": [
    "### 학습된 결정 트리를 이용\n",
    "### 임의의 샘플에 대하여, 어느 Class에 속할 지 예측\n",
    "- predict() "
   ]
  },
  {
   "cell_type": "code",
   "execution_count": 19,
   "metadata": {
    "colab": {},
    "colab_type": "code",
    "id": "aVOw8N1sN9sC",
    "outputId": "1235d242-eac6-4397-a19d-ea7e74178559"
   },
   "outputs": [
    {
     "name": "stdout",
     "output_type": "stream",
     "text": [
      "[1]\n"
     ]
    }
   ],
   "source": [
    "print(clf.predict([[5.5, 4]]))"
   ]
  },
  {
   "cell_type": "markdown",
   "metadata": {},
   "source": [
    "### 모든 Class에 속할 확률 계산\n",
    "- predict_proba()\n",
    "- 이러한 값을 이용하여 soft voting을 도입하면 보다 정확한 다중 분류 수행 가능"
   ]
  },
  {
   "cell_type": "code",
   "execution_count": 17,
   "metadata": {
    "colab": {},
    "colab_type": "code",
    "id": "qsQnDe9TN9sI",
    "outputId": "67cfb37a-5002-4473-9cbf-88eacb41d0ac",
    "scrolled": false
   },
   "outputs": [
    {
     "name": "stdout",
     "output_type": "stream",
     "text": [
      "[[0.11627907 0.65116279 0.23255814]]\n"
     ]
    }
   ],
   "source": [
    "print(clf.predict_proba([[5.5, 4]]))"
   ]
  },
  {
   "cell_type": "markdown",
   "metadata": {
    "colab_type": "text",
    "id": "ArMKRYIqN9sM"
   },
   "source": [
    "## 트리 내부 변수\n",
    "### 유방암 분류\n",
    "- 진단 결과 : M (악성, malignant), B (양성, benign)"
   ]
  },
  {
   "cell_type": "code",
   "execution_count": 20,
   "metadata": {
    "colab": {},
    "colab_type": "code",
    "id": "wtGHC8gsN9sN"
   },
   "outputs": [],
   "source": [
    "from sklearn.datasets import load_breast_cancer\n",
    "from sklearn.tree import DecisionTreeClassifier\n",
    "from sklearn.ensemble import RandomForestClassifier \n",
    "from sklearn.model_selection import train_test_split \n",
    "import matplotlib.pyplot as plt\n",
    "import numpy as np\n",
    "import pandas as pd"
   ]
  },
  {
   "cell_type": "code",
   "execution_count": 21,
   "metadata": {
    "colab": {},
    "colab_type": "code",
    "id": "6PX_5WDeN9sP"
   },
   "outputs": [],
   "source": [
    "cancer = load_breast_cancer() "
   ]
  },
  {
   "cell_type": "markdown",
   "metadata": {},
   "source": [
    "- 입력 데이터 : cancer.data\n",
    "- 레이블 데이터 : cancer.target"
   ]
  },
  {
   "cell_type": "code",
   "execution_count": 22,
   "metadata": {
    "scrolled": false
   },
   "outputs": [
    {
     "data": {
      "text/plain": [
       "(569, 30)"
      ]
     },
     "execution_count": 22,
     "metadata": {},
     "output_type": "execute_result"
    }
   ],
   "source": [
    "cancer.data.shape"
   ]
  },
  {
   "cell_type": "code",
   "execution_count": 23,
   "metadata": {
    "scrolled": true
   },
   "outputs": [
    {
     "data": {
      "text/plain": [
       "array(['mean radius', 'mean texture', 'mean perimeter', 'mean area',\n",
       "       'mean smoothness', 'mean compactness', 'mean concavity',\n",
       "       'mean concave points', 'mean symmetry', 'mean fractal dimension',\n",
       "       'radius error', 'texture error', 'perimeter error', 'area error',\n",
       "       'smoothness error', 'compactness error', 'concavity error',\n",
       "       'concave points error', 'symmetry error',\n",
       "       'fractal dimension error', 'worst radius', 'worst texture',\n",
       "       'worst perimeter', 'worst area', 'worst smoothness',\n",
       "       'worst compactness', 'worst concavity', 'worst concave points',\n",
       "       'worst symmetry', 'worst fractal dimension'], dtype='<U23')"
      ]
     },
     "execution_count": 23,
     "metadata": {},
     "output_type": "execute_result"
    }
   ],
   "source": [
    "cancer.feature_names"
   ]
  },
  {
   "cell_type": "code",
   "execution_count": 24,
   "metadata": {
    "colab": {},
    "colab_type": "code",
    "id": "IzCnJtR-N9sR",
    "outputId": "40f648d4-2f6a-47b0-d296-5c6b6cb38c2a",
    "scrolled": false
   },
   "outputs": [
    {
     "data": {
      "text/plain": [
       "array([0, 0, 0, 0, 0, 0, 0, 0, 0, 0, 0, 0, 0, 0, 0, 0, 0, 0, 0, 1, 1, 1,\n",
       "       0, 0, 0, 0, 0, 0, 0, 0, 0, 0, 0, 0, 0, 0, 0, 1, 0, 0, 0, 0, 0, 0,\n",
       "       0, 0, 1, 0, 1, 1, 1, 1, 1, 0, 0, 1, 0, 0, 1, 1, 1, 1, 0, 1, 0, 0,\n",
       "       1, 1, 1, 1, 0, 1, 0, 0, 1, 0, 1, 0, 0, 1, 1, 1, 0, 0, 1, 0, 0, 0,\n",
       "       1, 1, 1, 0, 1, 1, 0, 0, 1, 1, 1, 0, 0, 1, 1, 1, 1, 0, 1, 1, 0, 1,\n",
       "       1, 1, 1, 1, 1, 1, 1, 0, 0, 0, 1, 0, 0, 1, 1, 1, 0, 0, 1, 0, 1, 0,\n",
       "       0, 1, 0, 0, 1, 1, 0, 1, 1, 0, 1, 1, 1, 1, 0, 1, 1, 1, 1, 1, 1, 1,\n",
       "       1, 1, 0, 1, 1, 1, 1, 0, 0, 1, 0, 1, 1, 0, 0, 1, 1, 0, 0, 1, 1, 1,\n",
       "       1, 0, 1, 1, 0, 0, 0, 1, 0, 1, 0, 1, 1, 1, 0, 1, 1, 0, 0, 1, 0, 0,\n",
       "       0, 0, 1, 0, 0, 0, 1, 0, 1, 0, 1, 1, 0, 1, 0, 0, 0, 0, 1, 1, 0, 0,\n",
       "       1, 1, 1, 0, 1, 1, 1, 1, 1, 0, 0, 1, 1, 0, 1, 1, 0, 0, 1, 0, 1, 1,\n",
       "       1, 1, 0, 1, 1, 1, 1, 1, 0, 1, 0, 0, 0, 0, 0, 0, 0, 0, 0, 0, 0, 0,\n",
       "       0, 0, 1, 1, 1, 1, 1, 1, 0, 1, 0, 1, 1, 0, 1, 1, 0, 1, 0, 0, 1, 1,\n",
       "       1, 1, 1, 1, 1, 1, 1, 1, 1, 1, 1, 0, 1, 1, 0, 1, 0, 1, 1, 1, 1, 1,\n",
       "       1, 1, 1, 1, 1, 1, 1, 1, 1, 0, 1, 1, 1, 0, 1, 0, 1, 1, 1, 1, 0, 0,\n",
       "       0, 1, 1, 1, 1, 0, 1, 0, 1, 0, 1, 1, 1, 0, 1, 1, 1, 1, 1, 1, 1, 0,\n",
       "       0, 0, 1, 1, 1, 1, 1, 1, 1, 1, 1, 1, 1, 0, 0, 1, 0, 0, 0, 1, 0, 0,\n",
       "       1, 1, 1, 1, 1, 0, 1, 1, 1, 1, 1, 0, 1, 1, 1, 0, 1, 1, 0, 0, 1, 1,\n",
       "       1, 1, 1, 1, 0, 1, 1, 1, 1, 1, 1, 1, 0, 1, 1, 1, 1, 1, 0, 1, 1, 0,\n",
       "       1, 1, 1, 1, 1, 1, 1, 1, 1, 1, 1, 1, 0, 1, 0, 0, 1, 0, 1, 1, 1, 1,\n",
       "       1, 0, 1, 1, 0, 1, 0, 1, 1, 0, 1, 0, 1, 1, 1, 1, 1, 1, 1, 1, 0, 0,\n",
       "       1, 1, 1, 1, 1, 1, 0, 1, 1, 1, 1, 1, 1, 1, 1, 1, 1, 0, 1, 1, 1, 1,\n",
       "       1, 1, 1, 0, 1, 0, 1, 1, 0, 1, 1, 1, 1, 1, 0, 0, 1, 0, 1, 0, 1, 1,\n",
       "       1, 1, 1, 0, 1, 1, 0, 1, 0, 1, 0, 0, 1, 1, 1, 0, 1, 1, 1, 1, 1, 1,\n",
       "       1, 1, 1, 1, 1, 0, 1, 0, 0, 1, 1, 1, 1, 1, 1, 1, 1, 1, 1, 1, 1, 1,\n",
       "       1, 1, 1, 1, 1, 1, 1, 1, 1, 1, 1, 1, 0, 0, 0, 0, 0, 0, 1])"
      ]
     },
     "execution_count": 24,
     "metadata": {},
     "output_type": "execute_result"
    }
   ],
   "source": [
    "cancer.target"
   ]
  },
  {
   "cell_type": "markdown",
   "metadata": {},
   "source": [
    "- 구성 비가 다른 불균형 데이터를 이용해서 train/test 데이터로 분리할 경우\n",
    "- 자칫 작은 구성비를 가진 데이터들이 모두 train 또는 test데이터로 분리된다면\n",
    "-  제대로 학습과 테스트를 진행할 수가 없다.\n",
    "- 따라서 구성 비가 다른 불균형 데이터를 다룰 때는 \n",
    "    - Stratified가 붙은 클래스를 이용하거나 \n",
    "    - stratify옵션을 켜야한다"
   ]
  },
  {
   "cell_type": "markdown",
   "metadata": {},
   "source": [
    "- stratify : 지정한 Data의 비율을 유지한다. \n",
    "- 예를 들어, Label Set인 Y가 25%의 0과 75%의 1로 이루어진 Binary Set일 때, \n",
    "- stratify=Y로 설정하면 나누어진 데이터셋들도 0과 1을 각각 25%, 75%로 유지한 채 분할된다"
   ]
  },
  {
   "cell_type": "code",
   "execution_count": 25,
   "metadata": {
    "colab": {},
    "colab_type": "code",
    "id": "8IsAxDhWN9sU",
    "outputId": "f77520e5-9a0a-475d-e2ec-204859f603ac"
   },
   "outputs": [
    {
     "name": "stdout",
     "output_type": "stream",
     "text": [
      "0.916083916083916\n"
     ]
    }
   ],
   "source": [
    "np.random.seed(9)\n",
    "\n",
    "X_train, X_test, y_train, y_test = train_test_split(\n",
    "    cancer.data, cancer.target, stratify=cancer.target) \n",
    "\n",
    "clf = DecisionTreeClassifier()\n",
    "clf.fit(X_train, y_train)\n",
    "\n",
    "print(clf.score(X_test, y_test))"
   ]
  },
  {
   "cell_type": "markdown",
   "metadata": {},
   "source": [
    "■ 모델의 내부 변수\n",
    "- feature_importances_ : 결정 트리를 만드는데 각 특성이 기여한 정도"
   ]
  },
  {
   "cell_type": "code",
   "execution_count": 26,
   "metadata": {
    "colab": {},
    "colab_type": "code",
    "id": "va92V7Z7N9sY",
    "outputId": "32c5fba3-3c35-48d2-c0eb-0c317b0ea2c0",
    "scrolled": true
   },
   "outputs": [
    {
     "data": {
      "text/plain": [
       "[('mean radius', 0.0),\n",
       " ('mean texture', 0.0417),\n",
       " ('mean perimeter', 0.0),\n",
       " ('mean area', 0.0),\n",
       " ('mean smoothness', 0.0),\n",
       " ('mean compactness', 0.0),\n",
       " ('mean concavity', 0.0),\n",
       " ('mean concave points', 0.0426),\n",
       " ('mean symmetry', 0.0114),\n",
       " ('mean fractal dimension', 0.0),\n",
       " ('radius error', 0.0),\n",
       " ('texture error', 0.0),\n",
       " ('perimeter error', 0.0),\n",
       " ('area error', 0.0172),\n",
       " ('smoothness error', 0.0024),\n",
       " ('compactness error', 0.012),\n",
       " ('concavity error', 0.0),\n",
       " ('concave points error', 0.0),\n",
       " ('symmetry error', 0.0),\n",
       " ('fractal dimension error', 0.0),\n",
       " ('worst radius', 0.0172),\n",
       " ('worst texture', 0.0396),\n",
       " ('worst perimeter', 0.6947),\n",
       " ('worst area', 0.0),\n",
       " ('worst smoothness', 0.0),\n",
       " ('worst compactness', 0.0),\n",
       " ('worst concavity', 0.0),\n",
       " ('worst concave points', 0.1211),\n",
       " ('worst symmetry', 0.0),\n",
       " ('worst fractal dimension', 0.0)]"
      ]
     },
     "execution_count": 26,
     "metadata": {},
     "output_type": "execute_result"
    }
   ],
   "source": [
    "list(zip(cancer.feature_names, clf.feature_importances_.round(4)))"
   ]
  },
  {
   "cell_type": "markdown",
   "metadata": {},
   "source": [
    "- 각 특징의 중요도를 DataFrame 으로 생성\n",
    "- 중요도가 높은 순서로 상위 10개 특성을 출력"
   ]
  },
  {
   "cell_type": "code",
   "execution_count": 27,
   "metadata": {
    "colab": {},
    "colab_type": "code",
    "id": "KR52om1VN9sb"
   },
   "outputs": [],
   "source": [
    "df = pd.DataFrame({'feature':cancer.feature_names,'importance':clf.feature_importances_ })"
   ]
  },
  {
   "cell_type": "code",
   "execution_count": 28,
   "metadata": {
    "colab": {},
    "colab_type": "code",
    "id": "zRlDpyLAN9se",
    "outputId": "0a8c5eaa-c9e3-43c9-8e81-6d6911b099e0"
   },
   "outputs": [
    {
     "data": {
      "text/html": [
       "<div>\n",
       "<style scoped>\n",
       "    .dataframe tbody tr th:only-of-type {\n",
       "        vertical-align: middle;\n",
       "    }\n",
       "\n",
       "    .dataframe tbody tr th {\n",
       "        vertical-align: top;\n",
       "    }\n",
       "\n",
       "    .dataframe thead th {\n",
       "        text-align: right;\n",
       "    }\n",
       "</style>\n",
       "<table border=\"1\" class=\"dataframe\">\n",
       "  <thead>\n",
       "    <tr style=\"text-align: right;\">\n",
       "      <th></th>\n",
       "      <th>feature</th>\n",
       "      <th>importance</th>\n",
       "    </tr>\n",
       "  </thead>\n",
       "  <tbody>\n",
       "    <tr>\n",
       "      <th>0</th>\n",
       "      <td>mean radius</td>\n",
       "      <td>0.000000</td>\n",
       "    </tr>\n",
       "    <tr>\n",
       "      <th>1</th>\n",
       "      <td>mean texture</td>\n",
       "      <td>0.041720</td>\n",
       "    </tr>\n",
       "    <tr>\n",
       "      <th>2</th>\n",
       "      <td>mean perimeter</td>\n",
       "      <td>0.000000</td>\n",
       "    </tr>\n",
       "    <tr>\n",
       "      <th>3</th>\n",
       "      <td>mean area</td>\n",
       "      <td>0.000000</td>\n",
       "    </tr>\n",
       "    <tr>\n",
       "      <th>4</th>\n",
       "      <td>mean smoothness</td>\n",
       "      <td>0.000000</td>\n",
       "    </tr>\n",
       "    <tr>\n",
       "      <th>5</th>\n",
       "      <td>mean compactness</td>\n",
       "      <td>0.000000</td>\n",
       "    </tr>\n",
       "    <tr>\n",
       "      <th>6</th>\n",
       "      <td>mean concavity</td>\n",
       "      <td>0.000000</td>\n",
       "    </tr>\n",
       "    <tr>\n",
       "      <th>7</th>\n",
       "      <td>mean concave points</td>\n",
       "      <td>0.042647</td>\n",
       "    </tr>\n",
       "    <tr>\n",
       "      <th>8</th>\n",
       "      <td>mean symmetry</td>\n",
       "      <td>0.011405</td>\n",
       "    </tr>\n",
       "    <tr>\n",
       "      <th>9</th>\n",
       "      <td>mean fractal dimension</td>\n",
       "      <td>0.000000</td>\n",
       "    </tr>\n",
       "    <tr>\n",
       "      <th>10</th>\n",
       "      <td>radius error</td>\n",
       "      <td>0.000000</td>\n",
       "    </tr>\n",
       "    <tr>\n",
       "      <th>11</th>\n",
       "      <td>texture error</td>\n",
       "      <td>0.000000</td>\n",
       "    </tr>\n",
       "    <tr>\n",
       "      <th>12</th>\n",
       "      <td>perimeter error</td>\n",
       "      <td>0.000000</td>\n",
       "    </tr>\n",
       "    <tr>\n",
       "      <th>13</th>\n",
       "      <td>area error</td>\n",
       "      <td>0.017216</td>\n",
       "    </tr>\n",
       "    <tr>\n",
       "      <th>14</th>\n",
       "      <td>smoothness error</td>\n",
       "      <td>0.002385</td>\n",
       "    </tr>\n",
       "    <tr>\n",
       "      <th>15</th>\n",
       "      <td>compactness error</td>\n",
       "      <td>0.012042</td>\n",
       "    </tr>\n",
       "    <tr>\n",
       "      <th>16</th>\n",
       "      <td>concavity error</td>\n",
       "      <td>0.000000</td>\n",
       "    </tr>\n",
       "    <tr>\n",
       "      <th>17</th>\n",
       "      <td>concave points error</td>\n",
       "      <td>0.000000</td>\n",
       "    </tr>\n",
       "    <tr>\n",
       "      <th>18</th>\n",
       "      <td>symmetry error</td>\n",
       "      <td>0.000000</td>\n",
       "    </tr>\n",
       "    <tr>\n",
       "      <th>19</th>\n",
       "      <td>fractal dimension error</td>\n",
       "      <td>0.000000</td>\n",
       "    </tr>\n",
       "    <tr>\n",
       "      <th>20</th>\n",
       "      <td>worst radius</td>\n",
       "      <td>0.017188</td>\n",
       "    </tr>\n",
       "    <tr>\n",
       "      <th>21</th>\n",
       "      <td>worst texture</td>\n",
       "      <td>0.039639</td>\n",
       "    </tr>\n",
       "    <tr>\n",
       "      <th>22</th>\n",
       "      <td>worst perimeter</td>\n",
       "      <td>0.694689</td>\n",
       "    </tr>\n",
       "    <tr>\n",
       "      <th>23</th>\n",
       "      <td>worst area</td>\n",
       "      <td>0.000000</td>\n",
       "    </tr>\n",
       "    <tr>\n",
       "      <th>24</th>\n",
       "      <td>worst smoothness</td>\n",
       "      <td>0.000000</td>\n",
       "    </tr>\n",
       "    <tr>\n",
       "      <th>25</th>\n",
       "      <td>worst compactness</td>\n",
       "      <td>0.000000</td>\n",
       "    </tr>\n",
       "    <tr>\n",
       "      <th>26</th>\n",
       "      <td>worst concavity</td>\n",
       "      <td>0.000000</td>\n",
       "    </tr>\n",
       "    <tr>\n",
       "      <th>27</th>\n",
       "      <td>worst concave points</td>\n",
       "      <td>0.121068</td>\n",
       "    </tr>\n",
       "    <tr>\n",
       "      <th>28</th>\n",
       "      <td>worst symmetry</td>\n",
       "      <td>0.000000</td>\n",
       "    </tr>\n",
       "    <tr>\n",
       "      <th>29</th>\n",
       "      <td>worst fractal dimension</td>\n",
       "      <td>0.000000</td>\n",
       "    </tr>\n",
       "  </tbody>\n",
       "</table>\n",
       "</div>"
      ],
      "text/plain": [
       "                    feature  importance\n",
       "0               mean radius    0.000000\n",
       "1              mean texture    0.041720\n",
       "2            mean perimeter    0.000000\n",
       "3                 mean area    0.000000\n",
       "4           mean smoothness    0.000000\n",
       "5          mean compactness    0.000000\n",
       "6            mean concavity    0.000000\n",
       "7       mean concave points    0.042647\n",
       "8             mean symmetry    0.011405\n",
       "9    mean fractal dimension    0.000000\n",
       "10             radius error    0.000000\n",
       "11            texture error    0.000000\n",
       "12          perimeter error    0.000000\n",
       "13               area error    0.017216\n",
       "14         smoothness error    0.002385\n",
       "15        compactness error    0.012042\n",
       "16          concavity error    0.000000\n",
       "17     concave points error    0.000000\n",
       "18           symmetry error    0.000000\n",
       "19  fractal dimension error    0.000000\n",
       "20             worst radius    0.017188\n",
       "21            worst texture    0.039639\n",
       "22          worst perimeter    0.694689\n",
       "23               worst area    0.000000\n",
       "24         worst smoothness    0.000000\n",
       "25        worst compactness    0.000000\n",
       "26          worst concavity    0.000000\n",
       "27     worst concave points    0.121068\n",
       "28           worst symmetry    0.000000\n",
       "29  worst fractal dimension    0.000000"
      ]
     },
     "execution_count": 28,
     "metadata": {},
     "output_type": "execute_result"
    }
   ],
   "source": [
    "df"
   ]
  },
  {
   "cell_type": "code",
   "execution_count": 28,
   "metadata": {
    "colab": {},
    "colab_type": "code",
    "id": "yHLpdf83N9sj",
    "outputId": "fdf54837-60a3-423d-89ba-db1b34aa1950",
    "scrolled": true
   },
   "outputs": [
    {
     "name": "stdout",
     "output_type": "stream",
     "text": [
      "                 feature  importance\n",
      "22       worst perimeter    0.694689\n",
      "27  worst concave points    0.121068\n",
      "7    mean concave points    0.042647\n",
      "1           mean texture    0.041720\n",
      "21         worst texture    0.039639\n",
      "13            area error    0.017216\n",
      "20          worst radius    0.017188\n",
      "15     compactness error    0.012042\n",
      "8          mean symmetry    0.011405\n",
      "14      smoothness error    0.002385\n"
     ]
    }
   ],
   "source": [
    "df=df.sort_values('importance', ascending=False) \n",
    "print(df.head(10))"
   ]
  },
  {
   "cell_type": "markdown",
   "metadata": {},
   "source": [
    "- 각 특성의 기여도를 바 차트로 그리는 코드\n",
    "- 바 차트를 수평(horizontal)로 그리기 위해서 barh 함수를 사용\n",
    "    - yticks(ticks, [labels], **kwargs)"
   ]
  },
  {
   "cell_type": "code",
   "execution_count": 29,
   "metadata": {
    "colab": {},
    "colab_type": "code",
    "id": "_i_E1kzaN9sp",
    "outputId": "222814ad-f5f5-4663-a01e-7f639411f8de",
    "scrolled": true
   },
   "outputs": [
    {
     "data": {
      "image/png": "[encoded data removed]",
      "text/plain": [
       "<Figure size 720x504 with 1 Axes>"
      ]
     },
     "metadata": {
      "needs_background": "light"
     },
     "output_type": "display_data"
    }
   ],
   "source": [
    "x = df.feature\n",
    "y = df.importance\n",
    "ypos = np.arange(len(x))\n",
    "plt.figure(figsize=(10,7)) \n",
    "plt.barh(x, y) \n",
    "plt.yticks(ypos, x) \n",
    "plt.xlabel('Importance') \n",
    "plt.ylabel('Variable') \n",
    "plt.xlim(0, 1) \n",
    "plt.ylim(-1, len(x)) \n",
    "plt.show()"
   ]
  },
  {
   "cell_type": "code",
   "execution_count": null,
   "metadata": {},
   "outputs": [],
   "source": []
  }
 ],
 "metadata": {
  "colab": {
   "collapsed_sections": [],
   "name": "gg_35_결정트리_붓꽃유방암.ipynb",
   "provenance": [],
   "version": "0.3.2"
  },
  "kernelspec": {
   "display_name": "Python 3",
   "language": "python",
   "name": "python3"
  },
  "language_info": {
   "codemirror_mode": {
    "name": "ipython",
    "version": 3
   },
   "file_extension": ".py",
   "mimetype": "text/x-python",
   "name": "python",
   "nbconvert_exporter": "python",
   "pygments_lexer": "ipython3",
   "version": "3.7.4"
  }
 },
 "nbformat": 4,
 "nbformat_minor": 1
}
